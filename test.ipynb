{
 "cells": [
  {
   "cell_type": "code",
   "execution_count": 11,
   "metadata": {},
   "outputs": [],
   "source": [
    "from pybase64 import urlsafe_b64decode, b64decode\n",
    "from ipywidgets import Output\n",
    "from io import BytesIO\n",
    "from PIL import Image\n",
    "import numpy as np\n",
    "from ipycanvas import Canvas, hold_canvas\n",
    "\n",
    "from associations_module import Associations\n",
    "from sample_class_module import Sample\n",
    "\n",
    "\n",
    "def index(request):\n",
    "    ref_sample_b64 = request['ref_sample']\n",
    "    test_samples_b64 = [s for s in request['test_samples']]\n",
    "\n",
    "    ref_ndarray = get_image_ndarray(get_b64string(ref_sample_b64))\n",
    "    test_ndarrays = [get_image_ndarray(get_b64string(s)) for s in test_samples_b64]\n",
    "\n",
    "    ref_2darray = cvt_to_2darray(ref_ndarray, pick_last_value_in_list)\n",
    "    test_2darrays = [cvt_to_2darray(s, pick_last_value_in_list) for s in test_ndarrays]\n",
    "    return test_2darrays[compare_samples(ref_2darray, test_2darrays)]\n",
    "\n",
    "def get_b64string(s):\n",
    "    return s.split(\",\")[1]\n",
    "\n",
    "def pick_last_value_in_list(a_list):\n",
    "    return a_list[-1]\n",
    "\n",
    "def get_image_ndarray(base64_image_string):\n",
    "    image = Image.open(BytesIO(b64decode(base64_image_string)))\n",
    "    return np.array(image.resize((10, 10)))\n",
    "\n",
    "def cvt_to_2darray(numpy_ndarray, func):\n",
    "    result = np.empty((len(numpy_ndarray), len(numpy_ndarray[0])))\n",
    "\n",
    "    for row in range(len(numpy_ndarray)):\n",
    "        for col in range(len(numpy_ndarray[0])):\n",
    "            result[row, col] = func(numpy_ndarray[row, col])\n",
    "    \n",
    "    return result\n",
    "\n",
    "def compare_samples(ref_2darray, test_2darrays):\n",
    "    ref_association = Associations(Sample(ref_2darray, thinify=True).convertToAngle())\n",
    "    test_1_association = Associations(sampleImage=Sample(test_2darrays[0]).convertToAngle(), usePlainDataframes=True, includeDistance=False, limitDistance=10)\n",
    "    test_2_association = Associations(sampleImage=Sample(test_2darrays[1]).convertToAngle(), usePlainDataframes=True, includeDistance=False, limitDistance=10)\n",
    "\n",
    "    comp1 = ref_association.compare(test_1_association)\n",
    "    comp2 = ref_association.compare(test_2_association)\n",
    "\n",
    "    # breakpoint()\n",
    " \n",
    "    dist1 = comp1.getDistanceToNeighbors(reference='column')\n",
    "    dist2 = comp2.getDistanceToNeighbors(reference='column')\n",
    "\n",
    "    return int(dist1 < dist2)"
   ]
  },
  {
   "cell_type": "code",
   "execution_count": 2,
   "metadata": {},
   "outputs": [],
   "source": [
    "canvas = Canvas(width=200, height=200)"
   ]
  },
  {
   "cell_type": "code",
   "execution_count": 27,
   "metadata": {},
   "outputs": [],
   "source": [
    "\n",
    "out = Output()\n",
    "\n",
    "painting = True\n",
    "\n",
    "@out.capture()\n",
    "def handle_mouse_move(x, y):\n",
    "    print(\"what the fuck is going on\")\n",
    "    # if(painting):\n",
    "    #     print(\"what the fuck\")\n",
    "    #     canvas.line_to(x, y)\n",
    "    #     canvas.stroke('red')\n",
    "    # else:\n",
    "    #     print(\"what!\")\n",
    "\n",
    "@out.capture()\n",
    "def handle_mouse_down(x, y):\n",
    "    canvas.begin_path()\n",
    "    canvas.move_to(x, y)\n",
    "\n",
    "@out.capture()\n",
    "def handle_mouse_up(x, y):\n",
    "    canvas.close_path()\n",
    "\n",
    "canvas.on_mouse_down(handle_mouse_down)\n",
    "canvas.on_mouse_move(handle_mouse_move)\n",
    "canvas.on_mouse_up(handle_mouse_up)"
   ]
  },
  {
   "cell_type": "code",
   "execution_count": 29,
   "metadata": {},
   "outputs": [
    {
     "data": {
      "application/vnd.jupyter.widget-view+json": {
       "model_id": "4b486d8262dc4e9b94ec1e802681e049",
       "version_major": 2,
       "version_minor": 0
      },
      "text/plain": [
       "Canvas(width=500)"
      ]
     },
     "metadata": {},
     "output_type": "display_data"
    }
   ],
   "source": [
    "display(canvas)"
   ]
  },
  {
   "cell_type": "code",
   "execution_count": 30,
   "metadata": {},
   "outputs": [
    {
     "data": {
      "application/vnd.jupyter.widget-view+json": {
       "model_id": "4b486d8262dc4e9b94ec1e802681e049",
       "version_major": 2,
       "version_minor": 0
      },
      "text/plain": [
       "Canvas(width=500)"
      ]
     },
     "metadata": {},
     "output_type": "display_data"
    }
   ],
   "source": [
    "canvas"
   ]
  }
 ],
 "metadata": {
  "kernelspec": {
   "display_name": "base",
   "language": "python",
   "name": "python3"
  },
  "language_info": {
   "codemirror_mode": {
    "name": "ipython",
    "version": 3
   },
   "file_extension": ".py",
   "mimetype": "text/x-python",
   "name": "python",
   "nbconvert_exporter": "python",
   "pygments_lexer": "ipython3",
   "version": "3.8.8"
  },
  "orig_nbformat": 4,
  "vscode": {
   "interpreter": {
    "hash": "9ee0ec614d0abf57fdc8a4c4d1b373279e4d39776338528fabf72ad422f0613a"
   }
  }
 },
 "nbformat": 4,
 "nbformat_minor": 2
}
